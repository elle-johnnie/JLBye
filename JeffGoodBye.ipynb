{
 "cells": [
  {
   "cell_type": "code",
   "execution_count": null,
   "metadata": {},
   "outputs": [
    {
     "name": "stdout",
     "output_type": "stream",
     "text": [
      "Is Jeff leaving [Y/N]:n\n"
     ]
    }
   ],
   "source": [
    "# Ctrl-Enter to run\n",
    "\n",
    "import webbrowser\n",
    "\n",
    "jeffstatus = input(\"Is Jeff leaving [Y/N]:\")\n",
    "\n",
    "if jeffstatus.upper() == \"Y\":\n",
    "    url = 'https://media.giphy.com/media/2WxWfiavndgcM/giphy.gif'\n",
    "    print ('So sad to see you go Jeff - good luck on the road ahead!')\n",
    "    webbrowser.open_new(url) \n",
    "else:\n",
    "    url = 'https://media.giphy.com/media/yoJC2COHSxjIqadyZW/giphy.gif'\n",
    "    webbrowser.open_new(url) \n",
    "    \n",
    "jeffbday = input(\"Is it Jeff's birthday? [Y/N]:\")    \n",
    "if jeffbday.upper() == \"Y\":\n",
    "    url = 'https://media.giphy.com/media/qX7Q4wxpRVo88/giphy.gif'\n",
    "    webbrowser.open_new_tab(url) \n",
    "else: \n",
    "    url = 'https://media.giphy.com/media/uotFTljYYRlMQ/giphy.gif'\n",
    "    webbrowser.open_new_tab(url)\n",
    "    \n",
    "    \n",
    "\n"
   ]
  }
 ],
 "metadata": {
  "kernelspec": {
   "display_name": "Python 3",
   "language": "python",
   "name": "python3"
  },
  "language_info": {
   "codemirror_mode": {
    "name": "ipython",
    "version": 3
   },
   "file_extension": ".py",
   "mimetype": "text/x-python",
   "name": "python",
   "nbconvert_exporter": "python",
   "pygments_lexer": "ipython3",
   "version": "3.6.3"
  }
 },
 "nbformat": 4,
 "nbformat_minor": 2
}
