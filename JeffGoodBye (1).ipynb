{
 "cells": [
  {
   "cell_type": "code",
   "execution_count": null,
   "metadata": {},
   "outputs": [],
   "source": [
    "import webbrowser\n",
    "\n",
    "jeffstatus = input(\"Is Jeff leaving [Y/N]:\")\n",
    "\n",
    "if jeffstatus.upper() == \"Y\":\n",
    "    url = 'https://media.giphy.com/media/2WxWfiavndgcM/giphy.gif'\n",
    "    print ('So sad to see you go Jeff - good luck on the road ahead!')\n",
    "    webbrowser.open_new(url) \n",
    "    i = 0\n",
    "    for i in range (1,100):\n",
    "        i += 1\n",
    "    print('python cries %s tears -->' % (i) + ' _.~\"~._.~\"~._.~\"~._.~\"~.0')\n",
    "    print(\"                                                   '\")\n",
    "    print(\"                                                  '  <= python tears\")\n",
    "else:\n",
    "    url = 'https://media.giphy.com/media/yoJC2COHSxjIqadyZW/giphy.gif'\n",
    "    webbrowser.open_new(url) \n",
    "    \n",
    "jeffbday = input(\"Is it Jeff's birthday? [Y/N]:\")    \n",
    "if jeffbday.upper() == \"Y\":\n",
    "    url = 'https://media.giphy.com/media/qX7Q4wxpRVo88/giphy.gif'\n",
    "    webbrowser.open_new_tab(url) \n",
    "    print('Happ')\n",
    "\n",
    "else: \n",
    "    url = 'https://media.giphy.com/media/uotFTljYYRlMQ/giphy.gif'\n",
    "    webbrowser.open_new_tab(url)\n",
    "    \n",
    "    \n",
    "\n"
   ]
  }
 ],
 "metadata": {
  "kernelspec": {
   "display_name": "Python 3",
   "language": "python",
   "name": "python3"
  },
  "language_info": {
   "codemirror_mode": {
    "name": "ipython",
    "version": 3
   },
   "file_extension": ".py",
   "mimetype": "text/x-python",
   "name": "python",
   "nbconvert_exporter": "python",
   "pygments_lexer": "ipython3",
   "version": "3.6.3"
  }
 },
 "nbformat": 4,
 "nbformat_minor": 2
}
